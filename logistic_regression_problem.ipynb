{
  "nbformat": 4,
  "nbformat_minor": 0,
  "metadata": {
    "colab": {
      "name": "logistic-regression-problem.ipynb",
      "provenance": [],
      "collapsed_sections": [],
      "include_colab_link": true
    },
    "language_info": {
      "codemirror_mode": {
        "name": "ipython",
        "version": 3
      },
      "file_extension": ".py",
      "mimetype": "text/x-python",
      "name": "python",
      "nbconvert_exporter": "python",
      "pygments_lexer": "ipython3",
      "version": "3.6.8"
    },
    "kernelspec": {
      "display_name": "Python 3",
      "language": "python",
      "name": "python3"
    }
  },
  "cells": [
    {
      "cell_type": "markdown",
      "metadata": {
        "id": "view-in-github",
        "colab_type": "text"
      },
      "source": [
        "<a href=\"https://colab.research.google.com/github/adshyam/Scholastic-Gradient-Descent-Practice/blob/main/logistic_regression_problem.ipynb\" target=\"_parent\"><img src=\"https://colab.research.google.com/assets/colab-badge.svg\" alt=\"Open In Colab\"/></a>"
      ]
    },
    {
      "cell_type": "code",
      "metadata": {
        "id": "I2S-uFqwSvmg"
      },
      "source": [
        "import numpy as np\n",
        "import pandas as pd\n",
        "from sklearn.datasets import make_classification"
      ],
      "execution_count": null,
      "outputs": []
    },
    {
      "cell_type": "code",
      "metadata": {
        "id": "FUxLkBjISvmr"
      },
      "source": [
        "X, y = make_classification(n_samples=50000, n_features=15, n_informative=10, n_redundant=5,\n",
        "                           n_classes=2, weights=[0.7], class_sep=0.7, random_state=15)"
      ],
      "execution_count": null,
      "outputs": []
    },
    {
      "cell_type": "code",
      "metadata": {
        "id": "xexp5GYNSvmz",
        "colab": {
          "base_uri": "https://localhost:8080/",
          "height": 34
        },
        "outputId": "5008b821-246a-420c-adf8-dba37b269268"
      },
      "source": [
        "X.shape, y.shape"
      ],
      "execution_count": null,
      "outputs": [
        {
          "output_type": "execute_result",
          "data": {
            "text/plain": [
              "((50000, 15), (50000,))"
            ]
          },
          "metadata": {
            "tags": []
          },
          "execution_count": 3
        }
      ]
    },
    {
      "cell_type": "markdown",
      "metadata": {
        "id": "54vJVc_KSvm9"
      },
      "source": [
        " "
      ]
    },
    {
      "cell_type": "code",
      "metadata": {
        "id": "9pKAn1-ASvm_"
      },
      "source": [
        "from sklearn.model_selection import train_test_split"
      ],
      "execution_count": null,
      "outputs": []
    },
    {
      "cell_type": "code",
      "metadata": {
        "id": "r97pFTgrSvnE"
      },
      "source": [
        "X_train, X_test, y_train, y_test = train_test_split(X, y, test_size=0.25, random_state=15)"
      ],
      "execution_count": null,
      "outputs": []
    },
    {
      "cell_type": "code",
      "metadata": {
        "id": "jykLIXZNSvnJ",
        "colab": {
          "base_uri": "https://localhost:8080/",
          "height": 34
        },
        "outputId": "9209c9a3-bf6a-42e1-f052-423f3dc2e31d"
      },
      "source": [
        "X_train.shape, y_train.shape, X_test.shape, y_test.shape"
      ],
      "execution_count": null,
      "outputs": [
        {
          "output_type": "execute_result",
          "data": {
            "text/plain": [
              "((37500, 15), (37500,), (12500, 15), (12500,))"
            ]
          },
          "metadata": {
            "tags": []
          },
          "execution_count": 6
        }
      ]
    },
    {
      "cell_type": "markdown",
      "metadata": {
        "id": "g0-M6oXASvnO"
      },
      "source": [
        " "
      ]
    },
    {
      "cell_type": "code",
      "metadata": {
        "id": "sShoMeocSvnP"
      },
      "source": [
        "from sklearn import linear_model"
      ],
      "execution_count": null,
      "outputs": []
    },
    {
      "cell_type": "code",
      "metadata": {
        "id": "gm6wi8L2SvnU",
        "colab": {
          "base_uri": "https://localhost:8080/",
          "height": 119
        },
        "outputId": "96ceb0bd-2444-4160-9430-e08d3bc92a67"
      },
      "source": [
        "# alpha : float\n",
        "# Constant that multiplies the regularization term. \n",
        "\n",
        "# eta0 : double\n",
        "# The initial learning rate for the ‘constant’, ‘invscaling’ or ‘adaptive’ schedules.\n",
        "\n",
        "clf = linear_model.SGDClassifier(eta0=0.0001, alpha=0.0001, loss='log', random_state=15, penalty='l2', tol=1e-3, verbose=2, learning_rate='constant')\n",
        "clf"
      ],
      "execution_count": null,
      "outputs": [
        {
          "output_type": "execute_result",
          "data": {
            "text/plain": [
              "SGDClassifier(alpha=0.0001, average=False, class_weight=None,\n",
              "              early_stopping=False, epsilon=0.1, eta0=0.0001,\n",
              "              fit_intercept=True, l1_ratio=0.15, learning_rate='constant',\n",
              "              loss='log', max_iter=1000, n_iter_no_change=5, n_jobs=None,\n",
              "              penalty='l2', power_t=0.5, random_state=15, shuffle=True,\n",
              "              tol=0.001, validation_fraction=0.1, verbose=2, warm_start=False)"
            ]
          },
          "metadata": {
            "tags": []
          },
          "execution_count": 8
        }
      ]
    },
    {
      "cell_type": "code",
      "metadata": {
        "id": "Q4WFoxgASvnc",
        "colab": {
          "base_uri": "https://localhost:8080/",
          "height": 646
        },
        "outputId": "f79427cc-8c75-4a57-eba0-141e381bb5d1"
      },
      "source": [
        "clf.fit(X=X_train, y=y_train)"
      ],
      "execution_count": null,
      "outputs": [
        {
          "output_type": "stream",
          "text": [
            "-- Epoch 1\n",
            "Norm: 0.77, NNZs: 15, Bias: -0.316653, T: 37500, Avg. loss: 0.455552\n",
            "Total training time: 0.01 seconds.\n",
            "-- Epoch 2\n",
            "Norm: 0.91, NNZs: 15, Bias: -0.472747, T: 75000, Avg. loss: 0.394686\n",
            "Total training time: 0.02 seconds.\n",
            "-- Epoch 3\n",
            "Norm: 0.98, NNZs: 15, Bias: -0.580082, T: 112500, Avg. loss: 0.385711\n",
            "Total training time: 0.02 seconds.\n",
            "-- Epoch 4\n",
            "Norm: 1.02, NNZs: 15, Bias: -0.658292, T: 150000, Avg. loss: 0.382083\n",
            "Total training time: 0.03 seconds.\n",
            "-- Epoch 5\n",
            "Norm: 1.04, NNZs: 15, Bias: -0.719528, T: 187500, Avg. loss: 0.380486\n",
            "Total training time: 0.04 seconds.\n",
            "-- Epoch 6\n",
            "Norm: 1.05, NNZs: 15, Bias: -0.763409, T: 225000, Avg. loss: 0.379578\n",
            "Total training time: 0.05 seconds.\n",
            "-- Epoch 7\n",
            "Norm: 1.06, NNZs: 15, Bias: -0.795106, T: 262500, Avg. loss: 0.379150\n",
            "Total training time: 0.06 seconds.\n",
            "-- Epoch 8\n",
            "Norm: 1.06, NNZs: 15, Bias: -0.819925, T: 300000, Avg. loss: 0.378856\n",
            "Total training time: 0.07 seconds.\n",
            "-- Epoch 9\n",
            "Norm: 1.07, NNZs: 15, Bias: -0.837805, T: 337500, Avg. loss: 0.378585\n",
            "Total training time: 0.07 seconds.\n",
            "-- Epoch 10\n",
            "Norm: 1.08, NNZs: 15, Bias: -0.853138, T: 375000, Avg. loss: 0.378630\n",
            "Total training time: 0.08 seconds.\n",
            "Convergence after 10 epochs took 0.08 seconds\n"
          ],
          "name": "stdout"
        },
        {
          "output_type": "execute_result",
          "data": {
            "text/plain": [
              "SGDClassifier(alpha=0.0001, average=False, class_weight=None,\n",
              "              early_stopping=False, epsilon=0.1, eta0=0.0001,\n",
              "              fit_intercept=True, l1_ratio=0.15, learning_rate='constant',\n",
              "              loss='log', max_iter=1000, n_iter_no_change=5, n_jobs=None,\n",
              "              penalty='l2', power_t=0.5, random_state=15, shuffle=True,\n",
              "              tol=0.001, validation_fraction=0.1, verbose=2, warm_start=False)"
            ]
          },
          "metadata": {
            "tags": []
          },
          "execution_count": 9
        }
      ]
    },
    {
      "cell_type": "code",
      "metadata": {
        "id": "7WaVxhGpSvnj",
        "colab": {
          "base_uri": "https://localhost:8080/",
          "height": 102
        },
        "outputId": "e5635c73-b9b8-4054-bf5d-f061afdb4fa3"
      },
      "source": [
        "clf.coef_, clf.coef_.shape, clf.intercept_"
      ],
      "execution_count": null,
      "outputs": [
        {
          "output_type": "execute_result",
          "data": {
            "text/plain": [
              "(array([[-0.42336692,  0.18547565, -0.14859036,  0.34144407, -0.2081867 ,\n",
              "          0.56016579, -0.45242483, -0.09408813,  0.2092732 ,  0.18084126,\n",
              "          0.19705191,  0.00421916, -0.0796037 ,  0.33852802,  0.02266721]]),\n",
              " (1, 15),\n",
              " array([-0.8531383]))"
            ]
          },
          "metadata": {
            "tags": []
          },
          "execution_count": 10
        }
      ]
    },
    {
      "cell_type": "markdown",
      "metadata": {
        "id": "Su9e8fRLSvno"
      },
      "source": [
        " "
      ]
    },
    {
      "cell_type": "markdown",
      "metadata": {
        "id": "gcz5_UqCSvnq"
      },
      "source": [
        " "
      ]
    },
    {
      "cell_type": "markdown",
      "metadata": {
        "id": "UOBvEchCSvnr"
      },
      "source": [
        "## Implement Logistc Regression with L2 regularization Using SGD: without using sklearn"
      ]
    },
    {
      "cell_type": "markdown",
      "metadata": {
        "id": "Xbn61rrXSvnt"
      },
      "source": [
        "### Instructions"
      ]
    },
    {
      "cell_type": "markdown",
      "metadata": {
        "id": "14bA5yR3Svnv"
      },
      "source": [
        "- Load the datasets(train and test) into the respective arrays"
      ]
    },
    {
      "cell_type": "markdown",
      "metadata": {
        "id": "hdLeFU0USvnx"
      },
      "source": [
        "- Calculate the initlal log loss for the train and test data with the current weight and intercept and store it in a list"
      ]
    },
    {
      "cell_type": "markdown",
      "metadata": {
        "id": "2qmRH4UpSvny"
      },
      "source": [
        "- Plot the train and test loss i.e on x-axis the epoch number, and on y-axis the loss"
      ]
    },
    {
      "cell_type": "markdown",
      "metadata": {
        "id": "lbZf9p5gSvn1"
      },
      "source": [
        "- <strong>GOAL</strong>: compare your implementation and SGDClassifier's the weights and intercept, make sure they are as close as possible i.e difference should be in terms of 10^-3"
      ]
    },
    {
      "cell_type": "code",
      "metadata": {
        "id": "ytql9rnZ5dat"
      },
      "source": [
        ""
      ],
      "execution_count": null,
      "outputs": []
    },
    {
      "cell_type": "code",
      "metadata": {
        "id": "Fpz8X5DMSvn2"
      },
      "source": [
        "w = np.zeros_like(X_train[0])\n",
        "b = 0\n",
        "eta0  = 0.0001\n",
        "alpha = 0.0001\n",
        "N = len(X_train)"
      ],
      "execution_count": null,
      "outputs": []
    },
    {
      "cell_type": "code",
      "metadata": {
        "id": "rrCqQrxESroQ",
        "colab": {
          "base_uri": "https://localhost:8080/",
          "height": 51
        },
        "outputId": "a7f3f9d4-433a-49e6-ae53-7a96dd6ff236"
      },
      "source": [
        " # sigmoid(w,x,b) returns 1/(1+exp(-(dot(x,w)+b)))\n",
        "def sigmoid(w,xi,b):\n",
        "  result= 1/(1+np.exp(-(np.dot(w,xi)+b)))\n",
        "  return result\n",
        "def logistic_loss(w,xi,b,yi):\n",
        "  total=0\n",
        "  for i in range(len(xi)):\n",
        "    total=total+ yi[i]*np.log(sigmoid(w,xi[i],b))+(1-yi[i])*np.log(1-sigmoid(w,xi[i],b ))\n",
        "  log_loss=total*(-1/len(xi))\n",
        "  return log_loss\n",
        "print(\"logistic loss for train data is \",logistic_loss(w,X_train,b,y_train))\n",
        "\n",
        "print(\"logistic loss for test data is \" ,logistic_loss(w,X_test,b,y_test))\n"
      ],
      "execution_count": null,
      "outputs": [
        {
          "output_type": "stream",
          "text": [
            "logistic loss for train data is  0.6931471805594285\n",
            "logistic loss for test data is  0.6931471805600673\n"
          ],
          "name": "stdout"
        }
      ]
    },
    {
      "cell_type": "code",
      "metadata": {
        "id": "B6Y5kVscSvn5"
      },
      "source": [
        "# now next task is to find the best w and b so that we minimize the loss \n",
        "# note minimizing loss is maxmizing the # of correctly guessed points by the logistic regression\n",
        "# best w and b can found by the technique of SGD\n",
        "# IN SGD technique, we update the value of w and be in each iteration so that after some iteration, we get optimal value of w and b \n",
        "# log loss in each iteration could be seen and will be decreasing logistic loss\n"
      ],
      "execution_count": null,
      "outputs": []
    },
    {
      "cell_type": "code",
      "metadata": {
        "id": "TvHDjDWkZDtv",
        "colab": {
          "base_uri": "https://localhost:8080/",
          "height": 765
        },
        "outputId": "e35fe709-27b3-41c5-ee88-8775fc997c1e"
      },
      "source": [
        "trainloss=[]\n",
        "testloss=[]\n",
        " \n",
        "def bestw(w,eta0, lamda, xi,yi,b):\n",
        "  result= w*(1-(eta0*lamda)/(len(xi))) +eta0*xi*(yi-sigmoid(w,xi,b))\n",
        "  return result\n",
        " \n",
        "def bestb(w,eta0,xi,yi,b):\n",
        "  result=b+eta0*(yi-sigmoid(w,xi,b))\n",
        "  return result\n",
        "updated_w=w\n",
        "updated_b=b\n",
        "for epoch in range(1,11):\n",
        "\n",
        "  for i in range(N):\n",
        "    updated_w=bestw(updated_w,eta0,alpha,X_train[i],y_train[i],updated_b)\n",
        "    updated_b=bestb(updated_w,eta0,X_train[i],y_train[i],updated_b)\n",
        "     \n",
        "  train_loss=logistic_loss(updated_w,X_train,updated_b,y_train)\n",
        "  trainloss.append(train_loss)\n",
        " \n",
        "  \n",
        "  test_loss=logistic_loss(updated_w,X_test,updated_b,y_test)\n",
        "  testloss.append(test_loss)\n",
        "  print(\"with b :\",updated_b)\n",
        "  print(\"the X train logistic loss in epoch \", epoch,\" :\",train_loss)\n",
        "  print(\"the X test logistic loss in epoch \", epoch,\" :\",test_loss)\n",
        "  print(\"*\"*70)\n",
        "  \n",
        "print(\"Final w is : \",updated_w)\n",
        "print(\"Final b is : \",updated_b)\n",
        "\n",
        " "
      ],
      "execution_count": null,
      "outputs": [
        {
          "output_type": "stream",
          "text": [
            "with b : -0.31459326332545384\n",
            "the X train logistic loss in epoch  1  : 0.40403338932001165\n",
            "the X test logistic loss in epoch  1  : 0.4051791661729648\n",
            "**********************************************************************\n",
            "with b : -0.4709459802864583\n",
            "the X train logistic loss in epoch  2  : 0.3884044680473908\n",
            "the X test logistic loss in epoch  2  : 0.390081035010181\n",
            "**********************************************************************\n",
            "with b : -0.5798252917073647\n",
            "the X train logistic loss in epoch  3  : 0.38314938434256185\n",
            "the X test logistic loss in epoch  3  : 0.38502501943880163\n",
            "**********************************************************************\n",
            "with b : -0.6591552853297546\n",
            "the X train logistic loss in epoch  4  : 0.3807880436557241\n",
            "the X test logistic loss in epoch  4  : 0.38274338648211076\n",
            "**********************************************************************\n",
            "with b : -0.7177702984057924\n",
            "the X train logistic loss in epoch  5  : 0.37960715850231336\n",
            "the X test logistic loss in epoch  5  : 0.38159373102030814\n",
            "**********************************************************************\n",
            "with b : -0.7613464197167946\n",
            "the X train logistic loss in epoch  6  : 0.378985249930845\n",
            "the X test logistic loss in epoch  6  : 0.3809828818095057\n",
            "**********************************************************************\n",
            "with b : -0.7938588559234635\n",
            "the X train logistic loss in epoch  7  : 0.37864824659022384\n",
            "the X test logistic loss in epoch  7  : 0.3806487040949809\n",
            "**********************************************************************\n",
            "with b : -0.8181785915367921\n",
            "the X train logistic loss in epoch  8  : 0.3784624436518863\n",
            "the X test logistic loss in epoch  8  : 0.380462589783926\n",
            "**********************************************************************\n",
            "with b : -0.8364064459464011\n",
            "the X train logistic loss in epoch  9  : 0.37835882761875783\n",
            "the X test logistic loss in epoch  9  : 0.38035766961940026\n",
            "**********************************************************************\n",
            "with b : -0.8500905914247204\n",
            "the X train logistic loss in epoch  10  : 0.37830057167462394\n",
            "the X test logistic loss in epoch  10  : 0.38029797554381006\n",
            "**********************************************************************\n",
            "Final w is :  [-0.42313751  0.19095315 -0.14587075  0.33813665 -0.21195363  0.56523727\n",
            " -0.44537215 -0.09171355  0.21794613  0.16976406  0.19521275  0.0022948\n",
            " -0.0778107   0.33881492  0.02214337]\n",
            "Final b is :  -0.8500905914247204\n"
          ],
          "name": "stdout"
        }
      ]
    },
    {
      "cell_type": "code",
      "metadata": {
        "scrolled": true,
        "id": "Yy8jWaa7Svn_",
        "colab": {
          "base_uri": "https://localhost:8080/",
          "height": 85
        },
        "outputId": "0af86daa-161d-44dc-c737-d0317abe78a0"
      },
      "source": [
        "# these are the results we got after we implemented sgd and found the optimal weights and intercept\n",
        "w-clf.coef_, b-clf.intercept_"
      ],
      "execution_count": null,
      "outputs": [
        {
          "output_type": "execute_result",
          "data": {
            "text/plain": [
              "(array([[ 0.42336692, -0.18547565,  0.14859036, -0.34144407,  0.2081867 ,\n",
              "         -0.56016579,  0.45242483,  0.09408813, -0.2092732 , -0.18084126,\n",
              "         -0.19705191, -0.00421916,  0.0796037 , -0.33852802, -0.02266721]]),\n",
              " array([0.8531383]))"
            ]
          },
          "metadata": {
            "tags": []
          },
          "execution_count": 29
        }
      ]
    },
    {
      "cell_type": "code",
      "metadata": {
        "id": "d4N4Xbr0otjV",
        "colab": {
          "base_uri": "https://localhost:8080/",
          "height": 85
        },
        "outputId": "8d2e4edf-cee2-43d8-84d9-8faf6cd85439"
      },
      "source": [
        "# these are the result I got after my Implementation\n",
        "print(updated_w-clf.coef_ )\n",
        "print(updated_b-clf.intercept_)"
      ],
      "execution_count": null,
      "outputs": [
        {
          "output_type": "stream",
          "text": [
            "[[ 0.00022941  0.0054775   0.0027196  -0.00330742 -0.00376692  0.00507149\n",
            "   0.00705267  0.00237458  0.00867294 -0.01107721 -0.00183915 -0.00192435\n",
            "   0.001793    0.0002869  -0.00052384]]\n",
            "[0.00304771]\n"
          ],
          "name": "stdout"
        }
      ]
    },
    {
      "cell_type": "code",
      "metadata": {
        "id": "zQ5c2NNKp85_",
        "colab": {
          "base_uri": "https://localhost:8080/",
          "height": 297
        },
        "outputId": "015c784d-8311-4766-ca08-ce63c97c023e"
      },
      "source": [
        "# now plotting the graph where x axis== epoch number, and y axis== train loss and test loss\n",
        "#reference for plotting:\n",
        "#https://matplotlib.org/gallery/api/two_scales.html\n",
        "import numpy as np\n",
        "import matplotlib.pyplot as plt\n",
        "\n",
        "# Create some mock data\n",
        "epoch=[i for i in range(1,16)]\n",
        " \n",
        "fig, ax1 = plt.subplots()\n",
        "\n",
        "color = 'tab:red'\n",
        "ax1.set_xlabel('epoch')\n",
        "ax1.set_ylabel('train loss', color=color)\n",
        "ax1.plot(trainloss, color=color)\n",
        "ax1.tick_params(axis='y', labelcolor=color)\n",
        "\n",
        "ax2 = ax1.twinx()  # instantiate a second axes that shares the same x-axis\n",
        "\n",
        "color = 'tab:blue'\n",
        "ax2.set_ylabel('test loss', color=color)  # we already handled the x-label with ax1\n",
        "ax2.plot(testloss, color=color)\n",
        "ax2.tick_params(axis='y', labelcolor=color)\n",
        "\n",
        "fig.tight_layout()  # otherwise the right y-label is slightly clipped\n",
        "plt.show()"
      ],
      "execution_count": null,
      "outputs": [
        {
          "output_type": "display_data",
          "data": {
            "image/png": "[encoded data removed]",
            "text/plain": [
              "<Figure size 432x288 with 2 Axes>"
            ]
          },
          "metadata": {
            "tags": [],
            "needs_background": "light"
          }
        }
      ]
    },
    {
      "cell_type": "code",
      "metadata": {
        "id": "48gx6wQKSvoE",
        "colab": {
          "base_uri": "https://localhost:8080/",
          "height": 51
        },
        "outputId": "a13d27ba-dc37-4ba2-89ea-7bfe4f7c24c1"
      },
      "source": [
        "def pred(w,b, X):\n",
        "    N = len(X)\n",
        "    predict = []\n",
        "    for i in range(N):\n",
        "        if sigmoid(updated_w, X[i], updated_b) >= 0.5:\n",
        "            predict.append(1)\n",
        "        else:\n",
        "            predict.append(0)\n",
        "    return np.array(predict)\n",
        "print(1-np.sum(y_train - pred(w,b,X_train))/len(X_train))\n",
        "print(1-np.sum(y_test  - pred(w,b,X_test))/len(X_test))"
      ],
      "execution_count": null,
      "outputs": [
        {
          "output_type": "stream",
          "text": [
            "0.95536\n",
            "0.95296\n"
          ],
          "name": "stdout"
        }
      ]
    }
  ]
}